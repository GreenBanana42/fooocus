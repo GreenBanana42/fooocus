{
  "cells": [
    {
      "cell_type": "markdown",
      "metadata": {
        "id": "view-in-github",
        "colab_type": "text"
      },
      "source": [
        "<a href=\"https://colab.research.google.com/github/GreenBanana42/fooocus/blob/main/fooocus_colab.ipynb\" target=\"_parent\"><img src=\"https://colab.research.google.com/assets/colab-badge.svg\" alt=\"Open In Colab\"/></a>"
      ]
    },
    {
      "cell_type": "code",
      "source": [
        "from google.colab import drive\n",
        "drive.mount('/content/drive')"
      ],
      "metadata": {
        "id": "e56UVa0xbnym"
      },
      "execution_count": null,
      "outputs": []
    },
    {
      "cell_type": "code",
      "execution_count": null,
      "metadata": {
        "id": "VjYy0F2gZIPR"
      },
      "outputs": [],
      "source": [
        "!pip install pygit2==1.15.1\n",
        "%cd /content\n",
        "!git clone https://github.com/lllyasviel/Fooocus.git\n",
        "%cd /content/Fooocus\n",
        "!python entry_with_update.py --share --always-high-vram --disable-preset-selection --disable-preset-download"
      ]
    },
    {
      "cell_type": "code",
      "source": [
        "!rsync -P /content/drive/MyDrive/asuka_seva_illus-05.safetensors /content/Fooocus/models/loras/\n",
        "!rsync -P /content/drive/MyDrive/ntrMIXIllustriousXL_xiii.safetensors /content/Fooocus/models/checkpoints/\n",
        "!rm /content/Fooocus/config.txt\n",
        "!rsync -P /content/drive/MyDrive/config.txt /content/Fooocus/config.txt"
      ],
      "metadata": {
        "id": "rji1lfB7O1t2"
      },
      "execution_count": null,
      "outputs": []
    }
  ],
  "metadata": {
    "accelerator": "GPU",
    "colab": {
      "gpuType": "T4",
      "provenance": [],
      "include_colab_link": true
    },
    "kernelspec": {
      "display_name": "Python 3",
      "name": "python3"
    },
    "language_info": {
      "name": "python"
    }
  },
  "nbformat": 4,
  "nbformat_minor": 0
}